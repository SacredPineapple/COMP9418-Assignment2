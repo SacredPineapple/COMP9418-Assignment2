{
 "cells": [
  {
   "cell_type": "code",
   "execution_count": 37,
   "metadata": {},
   "outputs": [],
   "source": [
    "import pandas as pd\n",
    "import numpy as np\n",
    "import matplotlib.pyplot as plt"
   ]
  },
  {
   "cell_type": "code",
   "execution_count": 30,
   "metadata": {},
   "outputs": [
    {
     "name": "stdout",
     "output_type": "stream",
     "text": [
      "(4800, 55) (2400, 55) (2400, 55)\n"
     ]
    }
   ],
   "source": [
    "data1 = pd.read_csv(\"../data1.csv\")\n",
    "data2 = pd.read_csv(\"../data2.csv\")\n",
    "data = pd.concat([data1, data2], axis=0)\n",
    "data.head()\n",
    "print(data.shape, data1.shape, data2.shape)"
   ]
  },
  {
   "cell_type": "code",
   "execution_count": 60,
   "metadata": {},
   "outputs": [
    {
     "name": "stdout",
     "output_type": "stream",
     "text": [
      "[-0.033125, -0.027916666666666666, -0.02666666666666667, -0.03375]\n",
      "Bias: -0.030364583333333334\n",
      "[0.03203440821004376, 0.027142981176634023, 0.02596096408974092, 0.0326177328610127]\n",
      "Variance: 0.029439021584357853\n"
     ]
    },
    {
     "data": {
      "text/plain": [
       "<matplotlib.collections.PathCollection at 0x7f46d3670a30>"
      ]
     },
     "execution_count": 60,
     "metadata": {},
     "output_type": "execute_result"
    },
    {
     "data": {
      "image/png": "[encoded data removed]",
      "text/plain": [
       "<Figure size 640x480 with 1 Axes>"
      ]
     },
     "metadata": {},
     "output_type": "display_data"
    }
   ],
   "source": [
    "### Investigating the accuracy of the camera sensor\n",
    "# We are going to assume the camera sensors are i.i.d estimators of the room's occupancy.\n",
    "# From our initial investigation, they look to have statistically similar bias and variance.\n",
    "\n",
    "# Camera 1 in room 3\n",
    "# Camera 2 in room 21\n",
    "# Camera 3 in room 25\n",
    "# Camera 4 in room 34\n",
    "cameras = pd.DataFrame(data[['camera1', 'r3', 'camera2', 'r21', 'camera3', 'r25', 'camera4', 'r34', 'time']])\n",
    "\n",
    "cameras['err1'] = cameras['camera1'] - cameras['r3']\n",
    "cameras['err2'] = cameras['camera2'] - cameras['r21']\n",
    "cameras['err3'] = cameras['camera3'] - cameras['r25']\n",
    "cameras['err4'] = cameras['camera4'] - cameras['r34']\n",
    "\n",
    "# Slighly biased towards showing a smaller number\n",
    "meanErrors = [\n",
    "    cameras['err1'].mean(),\n",
    "    cameras['err2'].mean(),\n",
    "    cameras['err3'].mean(),\n",
    "    cameras['err4'].mean(),\n",
    "]\n",
    "print(meanErrors)\n",
    "print(f\"Bias: {np.mean(meanErrors)}\")\n",
    "\n",
    "varsErrors = [\n",
    "    cameras['err1'].var(),\n",
    "    cameras['err2'].var(),\n",
    "    cameras['err3'].var(),\n",
    "    cameras['err4'].var(),\n",
    "]\n",
    "# Variance is fairly low.\n",
    "print(varsErrors)\n",
    "print(f\"Variance: {np.mean(varsErrors)}\")\n",
    "\n",
    "### Question - is variance dependent on room occupancy size?\n",
    "# Again, assuming that cameras are i.i.d. Join all of them into a thingo\n",
    "# From the plot, doesn't look like these are correlated.\n",
    "sizes = pd.Series(list(cameras['r3']) + list(cameras['r21']) + list(cameras['r25']) + list(cameras['r34']))\n",
    "errors = pd.Series(list(cameras['err1']) + list(cameras['err2']) + list(cameras['err3']) + list(cameras['err4']))\n",
    "sizesVsErrors = pd.DataFrame({\"roomSize\": sizes, \"errors\": errors})\n",
    "plt.scatter(sizesVsErrors['roomSize'], sizesVsErrors['errors'])"
   ]
  }
 ],
 "metadata": {
  "kernelspec": {
   "display_name": "Python 3",
   "language": "python",
   "name": "python3"
  },
  "language_info": {
   "codemirror_mode": {
    "name": "ipython",
    "version": 3
   },
   "file_extension": ".py",
   "mimetype": "text/x-python",
   "name": "python",
   "nbconvert_exporter": "python",
   "pygments_lexer": "ipython3",
   "version": "3.10.12"
  }
 },
 "nbformat": 4,
 "nbformat_minor": 2
}
