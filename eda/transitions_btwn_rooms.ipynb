{
 "cells": [
  {
   "cell_type": "code",
   "execution_count": 1,
   "metadata": {},
   "outputs": [],
   "source": [
    "import pandas as pd\n",
    "import numpy as np\n",
    "import matplotlib.pyplot as plt"
   ]
  },
  {
   "cell_type": "code",
   "execution_count": 5,
   "metadata": {},
   "outputs": [],
   "source": [
    "df1 = pd.read_csv(\"../data1.csv\")\n",
    "areas = ['r' + str(i) for i in range(1, 35)] + ['c1', 'c2', 'outside']\n",
    "truth1 = df1[areas]"
   ]
  },
  {
   "cell_type": "code",
   "execution_count": 20,
   "metadata": {},
   "outputs": [
    {
     "name": "stdout",
     "output_type": "stream",
     "text": [
      "{'r12': 1.0, 'r13': -1.0, 'r27': 1.0, 'c1': 1.0, 'c2': -2.0}\n"
     ]
    }
   ],
   "source": [
    "# display(truth1.head())\n",
    "# display(truth1.shift().head())\n",
    "\n",
    "### deltas1 stores the change in people in each room per time period.\n",
    "deltas1 = (truth1 - truth1.shift()).dropna()\n",
    "deltas1.head()\n",
    "\n",
    "# Index 200 is interesting - indicates a potential move from c2 to r27, or r13 to r27. \n",
    "moves = {K:V for K, V in dict(deltas1.iloc[200]).items() if V != 0}\n",
    "print(moves)"
   ]
  },
  {
   "cell_type": "code",
   "execution_count": 11,
   "metadata": {},
   "outputs": [
    {
     "data": {
      "text/plain": [
       "['r1',\n",
       " 'r2',\n",
       " 'r3',\n",
       " 'r4',\n",
       " 'r5',\n",
       " 'r6',\n",
       " 'r7',\n",
       " 'r8',\n",
       " 'r9',\n",
       " 'r10',\n",
       " 'r11',\n",
       " 'r12',\n",
       " 'r13',\n",
       " 'r14',\n",
       " 'r15',\n",
       " 'r16',\n",
       " 'r17',\n",
       " 'r18',\n",
       " 'r19',\n",
       " 'r20',\n",
       " 'r21',\n",
       " 'r22',\n",
       " 'r23',\n",
       " 'r24',\n",
       " 'r25',\n",
       " 'r26',\n",
       " 'r27',\n",
       " 'r28',\n",
       " 'r29',\n",
       " 'r30',\n",
       " 'r31',\n",
       " 'r32',\n",
       " 'r33',\n",
       " 'r34',\n",
       " 'c1',\n",
       " 'c2',\n",
       " 'outside']"
      ]
     },
     "execution_count": 11,
     "metadata": {},
     "output_type": "execute_result"
    }
   ],
   "source": [
    "candidateNeighbours = {\n",
    "    'r1':[],\n",
    "    'r2':[],\n",
    "    'r3':[],\n",
    "    'r4':[],\n",
    "    'r5':[],\n",
    "    'r6':[],\n",
    "    'r7':[],\n",
    "    'r8':[],\n",
    "    'r9':[],\n",
    "    'r10':[],\n",
    "    'r11':[],\n",
    "    'r12':[],\n",
    "    'r13':[],\n",
    "    'r14':[],\n",
    "    'r15':[],\n",
    "    'r16':[],\n",
    "    'r17':[],\n",
    "    'r18':[],\n",
    "    'r19':[],\n",
    "    'r20':[],\n",
    "    'r21':[],\n",
    "    'r22':[],\n",
    "    'r23':[],\n",
    "    'r24':[],\n",
    "    'r25':[],\n",
    "    'r26':[],\n",
    "    'r27':[],\n",
    "    'r28':[],\n",
    "    'r29':[],\n",
    "    'r30':[],\n",
    "    'r31':[],\n",
    "    'r32':[],\n",
    "    'r33':[],\n",
    "    'r34':[],\n",
    "    'c1':[],\n",
    "    'c2':[],\n",
    "    'outside':[],\n",
    "}"
   ]
  }
 ],
 "metadata": {
  "kernelspec": {
   "display_name": "Python 3",
   "language": "python",
   "name": "python3"
  },
  "language_info": {
   "codemirror_mode": {
    "name": "ipython",
    "version": 3
   },
   "file_extension": ".py",
   "mimetype": "text/x-python",
   "name": "python",
   "nbconvert_exporter": "python",
   "pygments_lexer": "ipython3",
   "version": "3.10.12"
  }
 },
 "nbformat": 4,
 "nbformat_minor": 2
}
