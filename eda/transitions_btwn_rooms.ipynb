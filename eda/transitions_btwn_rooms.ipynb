{
 "cells": [
  {
   "cell_type": "code",
   "execution_count": 1,
   "metadata": {},
   "outputs": [],
   "source": [
    "import pandas as pd\n",
    "import numpy as np\n",
    "import matplotlib.pyplot as plt"
   ]
  },
  {
   "cell_type": "code",
   "execution_count": 2,
   "metadata": {},
   "outputs": [],
   "source": [
    "df1 = pd.read_csv(\"../data1.csv\")\n",
    "name_to_idx = {'outside': 0} | {'r' + str(i): i for i in range(1, 35)} | {'c1': 35, 'c2': 36}\n",
    "areas = ['r' + str(i) for i in range(1, 35)] + ['c1', 'c2', 'outside']\n",
    "truth1 = df1[areas]"
   ]
  },
  {
   "cell_type": "code",
   "execution_count": 19,
   "metadata": {},
   "outputs": [
    {
     "data": {
      "text/html": [
       "<div>\n",
       "<style scoped>\n",
       "    .dataframe tbody tr th:only-of-type {\n",
       "        vertical-align: middle;\n",
       "    }\n",
       "\n",
       "    .dataframe tbody tr th {\n",
       "        vertical-align: top;\n",
       "    }\n",
       "\n",
       "    .dataframe thead th {\n",
       "        text-align: right;\n",
       "    }\n",
       "</style>\n",
       "<table border=\"1\" class=\"dataframe\">\n",
       "  <thead>\n",
       "    <tr style=\"text-align: right;\">\n",
       "      <th></th>\n",
       "      <th>1</th>\n",
       "      <th>2</th>\n",
       "      <th>3</th>\n",
       "      <th>4</th>\n",
       "      <th>5</th>\n",
       "      <th>6</th>\n",
       "      <th>7</th>\n",
       "      <th>8</th>\n",
       "      <th>9</th>\n",
       "      <th>10</th>\n",
       "      <th>...</th>\n",
       "      <th>28</th>\n",
       "      <th>29</th>\n",
       "      <th>30</th>\n",
       "      <th>31</th>\n",
       "      <th>32</th>\n",
       "      <th>33</th>\n",
       "      <th>34</th>\n",
       "      <th>35</th>\n",
       "      <th>36</th>\n",
       "      <th>0</th>\n",
       "    </tr>\n",
       "  </thead>\n",
       "  <tbody>\n",
       "    <tr>\n",
       "      <th>1</th>\n",
       "      <td>0.0</td>\n",
       "      <td>0.0</td>\n",
       "      <td>0.0</td>\n",
       "      <td>0.0</td>\n",
       "      <td>0.0</td>\n",
       "      <td>0.0</td>\n",
       "      <td>0.0</td>\n",
       "      <td>0.0</td>\n",
       "      <td>0.0</td>\n",
       "      <td>0.0</td>\n",
       "      <td>...</td>\n",
       "      <td>0.0</td>\n",
       "      <td>0.0</td>\n",
       "      <td>0.0</td>\n",
       "      <td>0.0</td>\n",
       "      <td>0.0</td>\n",
       "      <td>0.0</td>\n",
       "      <td>0.0</td>\n",
       "      <td>0.0</td>\n",
       "      <td>0.0</td>\n",
       "      <td>0.0</td>\n",
       "    </tr>\n",
       "  </tbody>\n",
       "</table>\n",
       "<p>1 rows × 37 columns</p>\n",
       "</div>"
      ],
      "text/plain": [
       "    1    2    3    4    5    6    7    8    9    10  ...   28   29   30   31  \\\n",
       "1  0.0  0.0  0.0  0.0  0.0  0.0  0.0  0.0  0.0  0.0  ...  0.0  0.0  0.0  0.0   \n",
       "\n",
       "    32   33   34   35   36   0   \n",
       "1  0.0  0.0  0.0  0.0  0.0  0.0  \n",
       "\n",
       "[1 rows x 37 columns]"
      ]
     },
     "metadata": {},
     "output_type": "display_data"
    },
    {
     "name": "stdout",
     "output_type": "stream",
     "text": [
      "{12: 1.0, 13: -1.0, 27: 1.0, 35: 1.0, 36: -2.0}\n"
     ]
    }
   ],
   "source": [
    "# display(truth1.head())\n",
    "# display(truth1.shift().head())\n",
    "\n",
    "### deltas1 stores the change in people in each room per time period.\n",
    "deltas1 = (truth1 - truth1.shift()).dropna().rename(name_to_idx, axis=1)\n",
    "display(deltas1.head(1))\n",
    "\n",
    "# Index 200 is interesting - indicates a potential move from c2 to r27, or r13 to r27. \n",
    "moves = {K:V for K, V in dict(deltas1.iloc[200]).items() if V != 0}\n",
    "print(moves)"
   ]
  },
  {
   "cell_type": "code",
   "execution_count": 74,
   "metadata": {},
   "outputs": [],
   "source": [
    "candidateNeighbours = {area: set() for area in range(37)}\n",
    "nTransitions = np.zeros((37, 37))\n",
    "# We're going to populate the candidateNeighbours dictionary, and manually remove 'bad' looking transitions afterwards\n",
    "\n",
    "# Transitions made in day 1\n",
    "for idx, move in deltas1.iloc[:,].iterrows():\n",
    "    moveFrom = [K for K, V in dict(move).items() if V < 0]\n",
    "    moveTo = [K for K, V in dict(move).items() if V > 0]\n",
    "    for start in moveFrom:\n",
    "        for end in moveTo:\n",
    "            candidateNeighbours[start].add(end)\n",
    "            nTransitions[start, end] += 1\n"
   ]
  },
  {
   "cell_type": "code",
   "execution_count": 76,
   "metadata": {},
   "outputs": [
    {
     "name": "stdout",
     "output_type": "stream",
     "text": [
      "'0': [2, 14, 16, 22, 28, 35, 36]\n",
      "'1': [2, 3, 12, 13, 20, 22, 25, 26, 27, 28, 29, 30, 35, 36]\n",
      "'2': [0, 1, 3, 6, 7, 10, 12, 14, 16, 20, 23, 24, 25, 26, 27, 28, 29, 30, 32, 35, 36]\n",
      "'3': [1, 2, 6, 12, 14, 16, 20, 22, 23, 25, 26, 27, 28, 29, 30, 32, 35, 36]\n",
      "'4': [6]\n",
      "'5': [6, 22, 28, 29]\n",
      "'6': [2, 3, 4, 5, 7, 12, 14, 16, 20, 22, 24, 25, 26, 27, 28, 30, 32, 35, 36]\n",
      "'7': [2, 6, 11, 12, 14, 16, 18, 20, 25, 27, 28, 29, 30, 31, 32, 35, 36]\n",
      "'8': [15, 36]\n",
      "'9': [10, 13, 16, 36]\n",
      "'10': [2, 9, 11, 12, 14, 16, 22, 25, 26, 30, 32, 35, 36]\n",
      "'11': [7, 10, 19]\n",
      "'12': [1, 2, 3, 6, 7, 10, 14, 15, 16, 20, 22, 25, 26, 27, 28, 29, 30, 31, 32, 34, 35, 36]\n",
      "'13': [1, 9, 32, 34, 36]\n",
      "'14': [0, 2, 3, 6, 7, 10, 12, 16, 20, 22, 24, 25, 26, 27, 28, 29, 31, 32, 35, 36]\n",
      "'15': [8, 12, 22, 36]\n",
      "'16': [0, 2, 3, 6, 7, 9, 10, 12, 14, 20, 22, 25, 26, 27, 28, 29, 30, 32, 35, 36]\n",
      "'17': [32]\n",
      "'18': [7, 30, 32, 36]\n",
      "'19': [11, 20, 22, 29]\n",
      "'20': [1, 2, 3, 6, 7, 12, 14, 16, 19, 21, 22, 23, 24, 25, 26, 27, 28, 30, 32, 34, 35, 36]\n",
      "'21': [20, 25, 27, 29, 32, 36]\n",
      "'22': [0, 1, 3, 5, 6, 10, 12, 14, 15, 16, 19, 20, 23, 24, 26, 27, 28, 29, 32, 35, 36]\n",
      "'23': [2, 3, 20, 22, 26, 27, 28, 29, 36]\n",
      "'24': [2, 6, 14, 20, 22, 25, 28, 35]\n",
      "'25': [1, 2, 3, 6, 7, 10, 12, 14, 16, 20, 21, 24, 26, 27, 28, 29, 30, 32, 35, 36]\n",
      "'26': [1, 2, 3, 6, 10, 12, 14, 16, 20, 22, 23, 25, 27, 28, 29, 30, 32, 35, 36]\n",
      "'27': [1, 2, 3, 6, 7, 12, 14, 16, 20, 21, 22, 23, 25, 26, 28, 29, 30, 32, 35, 36]\n",
      "'28': [0, 1, 2, 3, 5, 6, 7, 12, 14, 16, 20, 22, 23, 24, 25, 26, 27, 29, 30, 32, 34, 35, 36]\n",
      "'29': [1, 2, 3, 5, 7, 12, 14, 16, 19, 21, 22, 23, 25, 26, 27, 28, 30, 35, 36]\n",
      "'30': [1, 2, 3, 6, 7, 10, 12, 16, 18, 20, 25, 26, 27, 28, 29, 35, 36]\n",
      "'31': [7, 12, 14, 32]\n",
      "'32': [2, 3, 6, 7, 10, 12, 13, 14, 16, 17, 18, 20, 21, 22, 25, 26, 27, 28, 31, 34, 35, 36]\n",
      "'33': [34]\n",
      "'34': [12, 13, 20, 28, 32, 33, 35]\n",
      "'35': [0, 1, 2, 3, 6, 7, 10, 12, 14, 16, 20, 22, 24, 25, 26, 27, 28, 29, 30, 32, 34, 36]\n",
      "'36': [0, 1, 2, 3, 6, 7, 8, 9, 10, 12, 13, 14, 15, 16, 18, 20, 21, 22, 23, 25, 26, 27, 28, 29, 30, 32, 35]\n"
     ]
    }
   ],
   "source": [
    "for area, neighbours in candidateNeighbours.items():\n",
    "    print(f\"'{area}': {sorted(list(neighbours))}\")\n",
    "    ..."
   ]
  },
  {
   "cell_type": "code",
   "execution_count": 59,
   "metadata": {},
   "outputs": [
    {
     "data": {
      "text/plain": [
       "array([[  0.,   0.,   3., ...,   2.,  14.,   7.],\n",
       "       [  3.,   0.,  74., ...,   0.,  13.,  17.],\n",
       "       [  6.,  71.,   0., ...,   2.,  36.,  27.],\n",
       "       ...,\n",
       "       [  0.,   3.,   4., ...,   0.,   5.,   6.],\n",
       "       [ 13.,  14.,  33., ...,  12.,   0., 169.],\n",
       "       [ 12.,  27.,  35., ...,   4., 155.,   0.]])"
      ]
     },
     "execution_count": 59,
     "metadata": {},
     "output_type": "execute_result"
    }
   ],
   "source": [
    "nTransitions"
   ]
  },
  {
   "cell_type": "code",
   "execution_count": 75,
   "metadata": {},
   "outputs": [
    {
     "name": "stdout",
     "output_type": "stream",
     "text": [
      "Removed 271 insignificant connections\n",
      "Removed 282 un-reciprocal connections\n"
     ]
    }
   ],
   "source": [
    "# Pruning time\n",
    "removed = 0\n",
    "for area, neighbours in candidateNeighbours.items():\n",
    "    toRemove = set()\n",
    "    for n in neighbours:\n",
    "        if nTransitions[area, n] < sum(nTransitions[area,]) * 0.01:\n",
    "            removed += 1\n",
    "            toRemove.add(n)\n",
    "    for n in toRemove:\n",
    "        candidateNeighbours[area].remove(n)\n",
    "print(f\"Removed {removed} insignificant connections\")\n",
    "\n",
    "removed = 0\n",
    "for area, neighbours in candidateNeighbours.items():\n",
    "    toRemove = set()\n",
    "    for n in neighbours:\n",
    "        if area not in candidateNeighbours[n]:\n",
    "            # print(f\"Removed connection {area}->{n} as there was no connection {n}->{area}\")\n",
    "            removed += 1\n",
    "            toRemove.add(n)\n",
    "    for n in toRemove:\n",
    "        candidateNeighbours[area].remove(n)\n",
    "print(f\"Removed {removed} un-reciprocal connections\")"
   ]
  },
  {
   "cell_type": "markdown",
   "metadata": {},
   "source": [
    "### Attempt 2\n",
    "We still use the deltas1 from above, which indicates the change in room occupancy from step to step.\n",
    "The idea is to try and decompose this into a guess of what transitions truly occurred.\n",
    "In a case for e.g. where there the only thing that happens is area 9 increases by 1, and area 36 decreases by 1,\n",
    "we're going to assume that there was one transition -> 36->9.\n",
    "\n",
    "Oh. Maybe not.\n",
    "Consider from above:\n",
    "\n",
    "```\n",
    "# Index 200 is interesting - indicates a potential move from c2 to r27, or r13 to r27. \n",
    "moves = {K:V for K, V in dict(deltas1.iloc[200]).items() if V != 0}\n",
    "print(moves)\n",
    "```\n",
    "\n",
    "{12: 1.0, 13: -1.0, 27: 1.0, 35: 1.0, 36: -2.0}\n",
    "\n",
    "Could just be 2 people entering c1, 1 person going from c1 to r27, which is probably more likely..."
   ]
  },
  {
   "cell_type": "code",
   "execution_count": 18,
   "metadata": {},
   "outputs": [
    {
     "name": "stdout",
     "output_type": "stream",
     "text": [
      "Iteration 10:\n",
      "Entrances: [14, 14, 0, 0]\n",
      "Exits: [22, 22, 22, 22]\n",
      "Iteration 20:\n",
      "Entrances: [9]\n",
      "Exits: [36]\n",
      "Iteration 30:\n",
      "Entrances: []\n",
      "Exits: []\n",
      "Iteration 40:\n",
      "Entrances: [26]\n",
      "Exits: [20]\n",
      "Iteration 50:\n",
      "Entrances: [22]\n",
      "Exits: [0]\n",
      "Iteration 60:\n",
      "Entrances: [3, 26, 26, 36, 36]\n",
      "Exits: [12, 14, 20, 35, 35]\n",
      "Iteration 70:\n",
      "Entrances: [3]\n",
      "Exits: [12]\n",
      "Iteration 80:\n",
      "Entrances: [12, 26, 27, 27, 27, 34, 36, 36, 36, 36, 36, 36, 36]\n",
      "Exits: [14, 14, 14, 14, 14, 14, 14, 25, 28, 35, 35, 35, 35]\n",
      "Iteration 90:\n",
      "Entrances: [25]\n",
      "Exits: [29]\n",
      "Iteration 100:\n",
      "Entrances: [2, 9, 20, 25]\n",
      "Exits: [1, 19, 26, 36]\n"
     ]
    }
   ],
   "source": [
    "for idx, step in deltas1.iterrows():\n",
    "    enters = []\n",
    "    exits = []\n",
    "    for K, V in dict(step).items():\n",
    "        if V == 0:\n",
    "            continue\n",
    "        if V > 0:\n",
    "            enters += [K] * int(V)\n",
    "        exits += [K] * (-int(V))\n",
    "\n",
    "    if idx % 10 == 0:    \n",
    "        print(f\"Iteration {idx}:\")\n",
    "        print(f\"Entrances: {enters}\")\n",
    "        print(f\"Exits: {exits}\")\n",
    "\n",
    "    if idx >= 100:\n",
    "        break\n"
   ]
  },
  {
   "cell_type": "code",
   "execution_count": null,
   "metadata": {},
   "outputs": [],
   "source": [
    "candidateNeighbours = {\n",
    "    'r1':[],\n",
    "    'r2':[],\n",
    "    'r3':[],\n",
    "    'r4':[],\n",
    "    'r5':[],\n",
    "    'r6':[],\n",
    "    'r7':[],\n",
    "    'r8':[],\n",
    "    'r9':[],\n",
    "    'r10':[],\n",
    "    'r11':[],\n",
    "    'r12':[],\n",
    "    'r13':[],\n",
    "    'r14':[],\n",
    "    'r15':[],\n",
    "    'r16':[],\n",
    "    'r17':[],\n",
    "    'r18':[],\n",
    "    'r19':[],\n",
    "    'r20':[],\n",
    "    'r21':[],\n",
    "    'r22':[],\n",
    "    'r23':[],\n",
    "    'r24':[],\n",
    "    'r25':[],\n",
    "    'r26':[],\n",
    "    'r27':[],\n",
    "    'r28':[],\n",
    "    'r29':[],\n",
    "    'r30':[],\n",
    "    'r31':[],\n",
    "    'r32':[],\n",
    "    'r33':[],\n",
    "    'r34':[],\n",
    "    'c1':[],\n",
    "    'c2':[],\n",
    "    'outside':[],\n",
    "}\n"
   ]
  }
 ],
 "metadata": {
  "kernelspec": {
   "display_name": "Python 3",
   "language": "python",
   "name": "python3"
  },
  "language_info": {
   "codemirror_mode": {
    "name": "ipython",
    "version": 3
   },
   "file_extension": ".py",
   "mimetype": "text/x-python",
   "name": "python",
   "nbconvert_exporter": "python",
   "pygments_lexer": "ipython3",
   "version": "3.10.12"
  }
 },
 "nbformat": 4,
 "nbformat_minor": 2
}
