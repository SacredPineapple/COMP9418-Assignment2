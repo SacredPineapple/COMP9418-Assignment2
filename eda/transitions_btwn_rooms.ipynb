{
 "cells": [
  {
   "cell_type": "code",
   "execution_count": 66,
   "metadata": {},
   "outputs": [],
   "source": [
    "import pandas as pd\n",
    "import numpy as np\n",
    "import matplotlib.pyplot as plt"
   ]
  },
  {
   "cell_type": "code",
   "execution_count": 67,
   "metadata": {},
   "outputs": [],
   "source": [
    "df1 = pd.read_csv(\"../data1.csv\")\n",
    "name_to_idx = {'outside': 0} | {'r' + str(i): i for i in range(1, 35)} | {'c1': 35, 'c2': 36}\n",
    "areas = ['r' + str(i) for i in range(1, 35)] + ['c1', 'c2', 'outside']\n",
    "truth1 = df1[areas].rename(name_to_idx, axis=1)"
   ]
  },
  {
   "cell_type": "code",
   "execution_count": 69,
   "metadata": {},
   "outputs": [
    {
     "data": {
      "text/html": [
       "<div>\n",
       "<style scoped>\n",
       "    .dataframe tbody tr th:only-of-type {\n",
       "        vertical-align: middle;\n",
       "    }\n",
       "\n",
       "    .dataframe tbody tr th {\n",
       "        vertical-align: top;\n",
       "    }\n",
       "\n",
       "    .dataframe thead th {\n",
       "        text-align: right;\n",
       "    }\n",
       "</style>\n",
       "<table border=\"1\" class=\"dataframe\">\n",
       "  <thead>\n",
       "    <tr style=\"text-align: right;\">\n",
       "      <th></th>\n",
       "      <th>1</th>\n",
       "      <th>2</th>\n",
       "      <th>3</th>\n",
       "      <th>4</th>\n",
       "      <th>5</th>\n",
       "      <th>6</th>\n",
       "      <th>7</th>\n",
       "      <th>8</th>\n",
       "      <th>9</th>\n",
       "      <th>10</th>\n",
       "      <th>...</th>\n",
       "      <th>28</th>\n",
       "      <th>29</th>\n",
       "      <th>30</th>\n",
       "      <th>31</th>\n",
       "      <th>32</th>\n",
       "      <th>33</th>\n",
       "      <th>34</th>\n",
       "      <th>35</th>\n",
       "      <th>36</th>\n",
       "      <th>0</th>\n",
       "    </tr>\n",
       "  </thead>\n",
       "  <tbody>\n",
       "    <tr>\n",
       "      <th>0</th>\n",
       "      <td>0.0</td>\n",
       "      <td>0.0</td>\n",
       "      <td>0.0</td>\n",
       "      <td>0.0</td>\n",
       "      <td>0.0</td>\n",
       "      <td>0.0</td>\n",
       "      <td>0.0</td>\n",
       "      <td>0.0</td>\n",
       "      <td>0.0</td>\n",
       "      <td>0.0</td>\n",
       "      <td>...</td>\n",
       "      <td>0.0</td>\n",
       "      <td>0.0</td>\n",
       "      <td>0.0</td>\n",
       "      <td>0.0</td>\n",
       "      <td>0.0</td>\n",
       "      <td>0.0</td>\n",
       "      <td>0.0</td>\n",
       "      <td>0.0</td>\n",
       "      <td>0.0</td>\n",
       "      <td>0.0</td>\n",
       "    </tr>\n",
       "  </tbody>\n",
       "</table>\n",
       "<p>1 rows × 37 columns</p>\n",
       "</div>"
      ],
      "text/plain": [
       "    1    2    3    4    5    6    7    8    9    10  ...   28   29   30   31  \\\n",
       "0  0.0  0.0  0.0  0.0  0.0  0.0  0.0  0.0  0.0  0.0  ...  0.0  0.0  0.0  0.0   \n",
       "\n",
       "    32   33   34   35   36   0   \n",
       "0  0.0  0.0  0.0  0.0  0.0  0.0  \n",
       "\n",
       "[1 rows x 37 columns]"
      ]
     },
     "metadata": {},
     "output_type": "display_data"
    },
    {
     "name": "stdout",
     "output_type": "stream",
     "text": [
      "{12: 1.0, 13: -1.0, 27: 1.0, 35: 1.0, 36: -2.0}\n"
     ]
    }
   ],
   "source": [
    "# display(truth1.head())\n",
    "# display(truth1.shift().head())\n",
    "\n",
    "### deltas1 stores the change in people in each room per time period.\n",
    "deltas1 = (truth1 - truth1.shift()).dropna().reset_index(drop=True)\n",
    "display(deltas1.head(1))\n",
    "\n",
    "# Index 200 is interesting - indicates a potential move from c2 to r27, or r13 to r27. \n",
    "moves = {K:V for K, V in dict(deltas1.iloc[200]).items() if V != 0}\n",
    "print(moves)"
   ]
  },
  {
   "cell_type": "code",
   "execution_count": 6,
   "metadata": {},
   "outputs": [],
   "source": [
    "candidateNeighbours = {area: set() for area in range(37)}\n",
    "nTransitions = np.zeros((37, 37))\n",
    "# We're going to populate the candidateNeighbours dictionary, and manually remove 'bad' looking transitions afterwards\n",
    "\n",
    "# Transitions made in day 1\n",
    "for idx, move in deltas1.iloc[:,].iterrows():\n",
    "    moveFrom = [K for K, V in dict(move).items() if V < 0]\n",
    "    moveTo = [K for K, V in dict(move).items() if V > 0]\n",
    "    for start in moveFrom:\n",
    "        for end in moveTo:\n",
    "            candidateNeighbours[start].add(end)\n",
    "            nTransitions[start, end] += 1\n"
   ]
  },
  {
   "cell_type": "code",
   "execution_count": 7,
   "metadata": {},
   "outputs": [
    {
     "name": "stdout",
     "output_type": "stream",
     "text": [
      "'0': [2, 3, 4, 5, 6, 7, 10, 11, 12, 13, 14, 15, 16, 17, 18, 20, 22, 23, 24, 25, 26, 27, 28, 29, 30, 31, 32, 34, 35, 36]\n",
      "'1': [0, 2, 3, 4, 5, 6, 7, 9, 10, 11, 12, 13, 14, 15, 16, 20, 22, 24, 25, 26, 27, 28, 29, 30, 32, 35, 36]\n",
      "'2': [0, 1, 3, 4, 5, 6, 7, 8, 9, 10, 11, 12, 13, 14, 15, 16, 18, 19, 20, 21, 22, 23, 24, 25, 26, 27, 28, 29, 30, 31, 32, 34, 35, 36]\n",
      "'3': [0, 1, 2, 4, 5, 6, 7, 9, 10, 11, 12, 13, 14, 15, 16, 18, 19, 20, 21, 22, 23, 24, 25, 26, 27, 28, 29, 30, 31, 32, 34, 35, 36]\n",
      "'4': [1, 2, 6, 7, 9, 10, 12, 14, 16, 17, 20, 23, 25, 26, 27, 28, 29, 30, 32, 35, 36]\n",
      "'5': [1, 2, 3, 4, 6, 8, 10, 12, 14, 16, 18, 20, 22, 25, 26, 27, 28, 29, 30, 35, 36]\n",
      "'6': [0, 1, 2, 3, 4, 5, 7, 9, 10, 11, 12, 13, 14, 16, 17, 20, 21, 22, 23, 24, 25, 26, 27, 28, 29, 30, 31, 32, 34, 35, 36]\n",
      "'7': [1, 2, 3, 6, 8, 11, 12, 13, 14, 16, 17, 18, 20, 22, 23, 24, 25, 26, 27, 28, 29, 30, 31, 32, 35, 36]\n",
      "'8': [1, 2, 3, 6, 12, 14, 15, 16, 17, 19, 20, 22, 23, 26, 27, 28, 29, 35, 36]\n",
      "'9': [1, 3, 6, 10, 12, 13, 14, 16, 20, 23, 25, 26, 27, 28, 30, 32, 35, 36]\n",
      "'10': [0, 1, 2, 3, 4, 5, 6, 7, 9, 11, 12, 13, 14, 16, 20, 22, 23, 24, 25, 26, 27, 28, 30, 31, 32, 35, 36]\n",
      "'11': [2, 3, 5, 6, 7, 9, 10, 14, 16, 19, 20, 22, 25, 26, 27, 29, 31, 32, 35, 36]\n",
      "'12': [1, 2, 3, 4, 5, 6, 7, 8, 9, 10, 11, 13, 14, 15, 16, 17, 18, 19, 20, 21, 22, 23, 24, 25, 26, 27, 28, 29, 30, 31, 32, 34, 35, 36]\n",
      "'13': [1, 2, 3, 6, 9, 12, 14, 15, 16, 18, 20, 22, 23, 24, 25, 26, 27, 28, 29, 30, 31, 32, 34, 35, 36]\n",
      "'14': [0, 1, 2, 3, 5, 6, 7, 9, 10, 11, 12, 13, 15, 16, 17, 18, 19, 20, 21, 22, 23, 24, 25, 26, 27, 28, 29, 30, 31, 32, 34, 35, 36]\n",
      "'15': [0, 2, 3, 5, 6, 7, 8, 10, 11, 12, 14, 17, 18, 19, 20, 22, 23, 24, 25, 26, 27, 28, 29, 30, 32, 35, 36]\n",
      "'16': [0, 1, 2, 3, 4, 6, 7, 8, 9, 10, 12, 14, 15, 19, 20, 21, 22, 23, 24, 25, 26, 27, 28, 29, 30, 32, 34, 35, 36]\n",
      "'17': [2, 3, 5, 14, 16, 23, 24, 25, 26, 27, 28, 29, 30, 32, 35, 36]\n",
      "'18': [1, 2, 3, 5, 6, 7, 8, 9, 10, 11, 12, 14, 20, 23, 25, 26, 27, 28, 29, 30, 31, 32, 35, 36]\n",
      "'19': [2, 3, 6, 9, 11, 12, 14, 16, 17, 20, 22, 23, 25, 26, 27, 28, 29, 32, 35, 36]\n",
      "'20': [0, 1, 2, 3, 6, 7, 8, 9, 10, 11, 12, 13, 14, 15, 16, 17, 18, 19, 21, 22, 23, 24, 25, 26, 27, 28, 29, 30, 31, 32, 34, 35, 36]\n",
      "'21': [0, 2, 3, 5, 6, 7, 10, 12, 13, 14, 17, 18, 19, 20, 22, 24, 25, 26, 27, 28, 29, 30, 31, 32, 35, 36]\n",
      "'22': [0, 1, 2, 3, 4, 5, 6, 7, 9, 10, 11, 12, 13, 14, 15, 16, 17, 18, 19, 20, 21, 23, 24, 25, 26, 27, 28, 29, 30, 31, 32, 34, 35, 36]\n",
      "'23': [0, 1, 2, 3, 4, 6, 7, 10, 11, 12, 13, 14, 15, 16, 18, 19, 20, 21, 22, 25, 26, 27, 28, 29, 30, 31, 32, 35, 36]\n",
      "'24': [0, 1, 2, 3, 5, 6, 9, 10, 12, 14, 16, 18, 19, 20, 22, 23, 25, 26, 27, 28, 29, 30, 31, 32, 34, 35, 36]\n",
      "'25': [0, 1, 2, 3, 4, 5, 6, 7, 8, 10, 11, 12, 13, 14, 15, 16, 17, 18, 19, 20, 21, 22, 23, 24, 26, 27, 28, 29, 30, 31, 32, 33, 34, 35, 36]\n",
      "'26': [0, 1, 2, 3, 4, 5, 6, 7, 8, 9, 10, 11, 12, 13, 14, 15, 16, 17, 18, 19, 20, 21, 22, 23, 24, 25, 27, 28, 29, 30, 31, 32, 34, 35, 36]\n",
      "'27': [0, 1, 2, 3, 4, 5, 6, 7, 8, 9, 10, 11, 12, 13, 14, 15, 16, 17, 18, 19, 20, 21, 22, 23, 24, 25, 26, 28, 29, 30, 31, 32, 34, 35, 36]\n",
      "'28': [0, 1, 2, 3, 4, 5, 6, 7, 9, 10, 12, 13, 14, 15, 16, 19, 20, 21, 22, 23, 24, 25, 26, 27, 29, 30, 31, 32, 34, 35, 36]\n",
      "'29': [0, 1, 2, 3, 4, 5, 6, 7, 8, 9, 10, 11, 12, 13, 14, 15, 16, 17, 19, 20, 21, 22, 23, 25, 26, 27, 28, 30, 31, 32, 35, 36]\n",
      "'30': [0, 1, 2, 3, 4, 5, 6, 7, 8, 9, 10, 11, 12, 14, 15, 16, 17, 18, 19, 20, 22, 23, 24, 25, 26, 27, 28, 29, 32, 33, 34, 35, 36]\n",
      "'31': [1, 2, 3, 6, 7, 9, 11, 12, 14, 15, 17, 19, 20, 21, 22, 23, 24, 25, 26, 27, 28, 29, 30, 32, 35, 36]\n",
      "'32': [1, 2, 3, 5, 6, 7, 8, 10, 11, 12, 13, 14, 15, 16, 17, 18, 19, 20, 21, 22, 23, 24, 25, 26, 27, 28, 29, 30, 31, 34, 35, 36]\n",
      "'33': [3, 16, 22, 34, 35]\n",
      "'34': [1, 2, 4, 6, 7, 9, 10, 12, 13, 14, 16, 17, 20, 23, 24, 25, 26, 27, 28, 29, 32, 33, 35, 36]\n",
      "'35': [0, 1, 2, 3, 4, 5, 6, 7, 8, 9, 10, 11, 12, 13, 14, 15, 16, 17, 18, 19, 20, 21, 22, 23, 24, 25, 26, 27, 28, 29, 30, 31, 32, 34, 36]\n",
      "'36': [0, 1, 2, 3, 4, 5, 6, 7, 8, 9, 10, 11, 12, 13, 14, 15, 16, 17, 18, 19, 20, 21, 22, 23, 24, 25, 26, 27, 28, 29, 30, 31, 32, 33, 34, 35]\n"
     ]
    }
   ],
   "source": [
    "for area, neighbours in candidateNeighbours.items():\n",
    "    print(f\"'{area}': {sorted(list(neighbours))}\")\n",
    "    ..."
   ]
  },
  {
   "cell_type": "code",
   "execution_count": 59,
   "metadata": {},
   "outputs": [
    {
     "data": {
      "text/plain": [
       "array([[  0.,   0.,   3., ...,   2.,  14.,   7.],\n",
       "       [  3.,   0.,  74., ...,   0.,  13.,  17.],\n",
       "       [  6.,  71.,   0., ...,   2.,  36.,  27.],\n",
       "       ...,\n",
       "       [  0.,   3.,   4., ...,   0.,   5.,   6.],\n",
       "       [ 13.,  14.,  33., ...,  12.,   0., 169.],\n",
       "       [ 12.,  27.,  35., ...,   4., 155.,   0.]])"
      ]
     },
     "execution_count": 59,
     "metadata": {},
     "output_type": "execute_result"
    }
   ],
   "source": [
    "nTransitions"
   ]
  },
  {
   "cell_type": "code",
   "execution_count": 75,
   "metadata": {},
   "outputs": [
    {
     "name": "stdout",
     "output_type": "stream",
     "text": [
      "Removed 271 insignificant connections\n",
      "Removed 282 un-reciprocal connections\n"
     ]
    }
   ],
   "source": [
    "# Pruning time\n",
    "removed = 0\n",
    "for area, neighbours in candidateNeighbours.items():\n",
    "    toRemove = set()\n",
    "    for n in neighbours:\n",
    "        if nTransitions[area, n] < sum(nTransitions[area,]) * 0.01:\n",
    "            removed += 1\n",
    "            toRemove.add(n)\n",
    "    for n in toRemove:\n",
    "        candidateNeighbours[area].remove(n)\n",
    "print(f\"Removed {removed} insignificant connections\")\n",
    "\n",
    "removed = 0\n",
    "for area, neighbours in candidateNeighbours.items():\n",
    "    toRemove = set()\n",
    "    for n in neighbours:\n",
    "        if area not in candidateNeighbours[n]:\n",
    "            # print(f\"Removed connection {area}->{n} as there was no connection {n}->{area}\")\n",
    "            removed += 1\n",
    "            toRemove.add(n)\n",
    "    for n in toRemove:\n",
    "        candidateNeighbours[area].remove(n)\n",
    "print(f\"Removed {removed} un-reciprocal connections\")"
   ]
  },
  {
   "cell_type": "markdown",
   "metadata": {},
   "source": [
    "### Attempt 2\n",
    "We still use the deltas1 from above, which indicates the change in room occupancy from step to step.\n",
    "The idea is to try and decompose this into a guess of what transitions truly occurred.\n",
    "In a case for e.g. where there the only thing that happens is area 9 increases by 1, and area 36 decreases by 1,\n",
    "we're going to assume that there was one transition -> 36->9.\n",
    "\n",
    "Oh. Maybe not.\n",
    "Consider from above:\n",
    "\n",
    "```\n",
    "# Index 200 is interesting - indicates a potential move from c2 to r27, or r13 to r27. \n",
    "moves = {K:V for K, V in dict(deltas1.iloc[200]).items() if V != 0}\n",
    "print(moves)\n",
    "```\n",
    "\n",
    "{12: 1.0, 13: -1.0, 27: 1.0, 35: 1.0, 36: -2.0}\n",
    "\n",
    "Could just be 2 people entering c1, 1 person going from c1 to r27, which is probably more likely..."
   ]
  },
  {
   "cell_type": "code",
   "execution_count": 18,
   "metadata": {},
   "outputs": [
    {
     "name": "stdout",
     "output_type": "stream",
     "text": [
      "Iteration 10:\n",
      "Entrances: [14, 14, 0, 0]\n",
      "Exits: [22, 22, 22, 22]\n",
      "Iteration 20:\n",
      "Entrances: [9]\n",
      "Exits: [36]\n",
      "Iteration 30:\n",
      "Entrances: []\n",
      "Exits: []\n",
      "Iteration 40:\n",
      "Entrances: [26]\n",
      "Exits: [20]\n",
      "Iteration 50:\n",
      "Entrances: [22]\n",
      "Exits: [0]\n",
      "Iteration 60:\n",
      "Entrances: [3, 26, 26, 36, 36]\n",
      "Exits: [12, 14, 20, 35, 35]\n",
      "Iteration 70:\n",
      "Entrances: [3]\n",
      "Exits: [12]\n",
      "Iteration 80:\n",
      "Entrances: [12, 26, 27, 27, 27, 34, 36, 36, 36, 36, 36, 36, 36]\n",
      "Exits: [14, 14, 14, 14, 14, 14, 14, 25, 28, 35, 35, 35, 35]\n",
      "Iteration 90:\n",
      "Entrances: [25]\n",
      "Exits: [29]\n",
      "Iteration 100:\n",
      "Entrances: [2, 9, 20, 25]\n",
      "Exits: [1, 19, 26, 36]\n"
     ]
    }
   ],
   "source": [
    "for idx, step in deltas1.iterrows():\n",
    "    enters = []\n",
    "    exits = []\n",
    "    for K, V in dict(step).items():\n",
    "        if V == 0:\n",
    "            continue\n",
    "        if V > 0:\n",
    "            enters += [K] * int(V)\n",
    "        exits += [K] * (-int(V))\n",
    "\n",
    "    if idx % 10 == 0:\n",
    "        print(f\"Iteration {idx}:\")\n",
    "        print(f\"Entrances: {enters}\")\n",
    "        print(f\"Exits: {exits}\")\n",
    "\n",
    "    if idx >= 100:\n",
    "        break\n"
   ]
  },
  {
   "cell_type": "code",
   "execution_count": 149,
   "metadata": {},
   "outputs": [
    {
     "name": "stdout",
     "output_type": "stream",
     "text": [
      "idx = 1575, Start = 34, truth[start] = 1, total-gain-n = 0.0, n_left_start = 1.0\n",
      "{9: -1, 10: 1, 12: 1, 13: 2, 34: -1, 36: -2}\n",
      "{1: 1, 2: 2, 7: 2, 9: 2, 10: 13, 12: 1, 13: 2, 15: 1, 16: 1, 19: 1, 21: 1, 23: 3, 24: 1, 25: 1, 30: 1, 34: 1, 35: 3, 36: 2, 0: 2}\n",
      "[0. 0. 0. 0. 0. 0. 0. 0. 0. 0. 0. 0. 0. 0. 0. 0. 0. 0. 0. 0. 0. 0. 0. 0.\n",
      " 0. 0. 0. 0. 0. 0. 0. 0. 0. 0. 0. 0. 0.]\n"
     ]
    },
    {
     "ename": "AssertionError",
     "evalue": "",
     "output_type": "error",
     "traceback": [
      "\u001b[0;31m---------------------------------------------------------------------------\u001b[0m",
      "\u001b[0;31mAssertionError\u001b[0m                            Traceback (most recent call last)",
      "Cell \u001b[0;32mIn [149], line 94\u001b[0m\n\u001b[1;32m     92\u001b[0m         \u001b[38;5;28mprint\u001b[39m({K:\u001b[38;5;28mint\u001b[39m(V) \u001b[38;5;28;01mfor\u001b[39;00m K, V \u001b[38;5;129;01min\u001b[39;00m \u001b[38;5;28mdict\u001b[39m(truth)\u001b[38;5;241m.\u001b[39mitems() \u001b[38;5;28;01mif\u001b[39;00m V \u001b[38;5;241m!=\u001b[39m \u001b[38;5;241m0\u001b[39m})\n\u001b[1;32m     93\u001b[0m         \u001b[38;5;28mprint\u001b[39m(m[start, :, idx])\n\u001b[0;32m---> 94\u001b[0m         \u001b[38;5;28;01massert\u001b[39;00m(\u001b[38;5;28;01mFalse\u001b[39;00m)\n\u001b[1;32m     96\u001b[0m \u001b[38;5;66;03m# t_m = np.zeros((37, 37))\u001b[39;00m\n\u001b[1;32m     97\u001b[0m \u001b[38;5;66;03m# for start, end in zip(range(37), range(37)):\u001b[39;00m\n\u001b[1;32m     98\u001b[0m \u001b[38;5;66;03m#     t_m[start][end] = np.mean(m[start, end], axis=2)\u001b[39;00m\n",
      "\u001b[0;31mAssertionError\u001b[0m: "
     ]
    }
   ],
   "source": [
    "m = np.zeros((37, 37, len(deltas1)))\n",
    "\n",
    "# 6-27\n",
    "# 14-27\n",
    "# 23-27\n",
    "# 36-27\n",
    "# 32-30\n",
    "# 19-27\n",
    "# 3-14\n",
    "# 3-16\n",
    "# 1-12\n",
    "\n",
    "neighboursDict = {\n",
    "    0: [14, 22, 24, 35],\n",
    "    1: [2, 3, 12],\n",
    "    2: [1, 3, 12, 36],\n",
    "    3: [1, 2, 12, 14, 16, 35, 36],\n",
    "    4: [5, 6, 14],\n",
    "    5: [4, 6],\n",
    "    6: [4, 5, 14, 22, 27, 35],\n",
    "    7: [8, 9, 10, 11, 12, 13, 15, 16, 17, 18, 35, 36],\n",
    "    8: [7, 9, 10, 11, 12, 13, 15, 16, 17, 18, 36],\n",
    "    9: [7, 8, 10, 11, 12, 13, 15, 16, 17, 18, 32, 36],\n",
    "    10: [7, 8, 9, 11, 12, 13, 15, 16, 17, 18, 27, 35, 36],\n",
    "    11: [3, 7, 8, 9, 10, 12, 13, 15, 16, 17, 18, 26, 35, 36],\n",
    "    12: [1, 2, 3, 7, 8, 9, 10, 11, 13, 14, 15, 16, 17, 18, 35, 36],\n",
    "    13: [3, 7, 8, 9, 10, 11, 12, 14, 15, 16, 17, 18, 34, 35, 36],\n",
    "    14: [0, 3, 4, 6, 12, 22, 24, 27, 28, 32, 35, 36, 13],\n",
    "    15: [7, 8, 9, 10, 11, 12, 13, 16, 17, 18, 36],\n",
    "    16: [3, 7, 8, 9, 10, 11, 12, 13, 15, 17, 18, 35, 36],\n",
    "    17: [3, 7, 8, 9, 10, 11, 12, 13, 15, 16, 18, 35, 36],\n",
    "    18: [3, 7, 8, 9, 10, 11, 12, 13, 14, 15, 16, 17, 35, 36],\n",
    "    19: [20, 23, 26, 27],\n",
    "    20: [19, 23, 25, 26, 27, 29, 30, 35],\n",
    "    21: [26, 27, 32, 35, 36],\n",
    "    22: [0, 6, 14, 24, 28, 35, 36],\n",
    "    23: [19, 20, 26, 27, 30],\n",
    "    24: [14, 22, 27, 28, 34, 35, 0],\n",
    "    25: [20, 26, 27, 29, 30, 32],\n",
    "    26: [11, 19, 20, 21, 23, 25, 27, 28, 29, 30, 32, 35, 36],\n",
    "    27: [6, 10, 14, 20, 21, 23, 24, 25, 26, 28, 30, 31, 32, 35, 36],\n",
    "    28: [14, 22, 24, 26, 27, 33, 34, 35, 36],\n",
    "    29: [20, 25, 26, 30],\n",
    "    30: [20, 23, 25, 26, 27, 29, 32],\n",
    "    31: [27, 32],\n",
    "    32: [9, 14, 21, 25, 26, 27, 30, 31, 35],\n",
    "    33: [28, 34],\n",
    "    34: [13, 24, 28, 33, 35, 36],\n",
    "    35: [0, 3, 6, 7, 11, 12, 13, 14, 16, 17, 18, 20, 21, 22, 24, 26, 27, 28, 32, 34, 36],\n",
    "    36: [2, 3, 7, 8, 9, 10, 11, 12, 13, 14, 15, 16, 17, 18, 21, 22, 26, 27, 28, 34, 35],\n",
    "}\n",
    "\n",
    "for idx, delta in deltas1.iterrows():\n",
    "    # print(idx)\n",
    "    truth = truth1.iloc[idx]\n",
    "\n",
    "    # moves = {K:int(V) for K, V in dict(deltas1.iloc[idx]).items() if V != 0}\n",
    "    # start = {K:V for K, V in dict(truth1.iloc[idx]).items() if V != 0}\n",
    "    # end = {K:V for K, V in dict(truth1.iloc[idx+1]).items() if V != 0}\n",
    "    # print(moves)\n",
    "    # print(f\"Start: {start}\")\n",
    "    # print(f\"End: {end}\")\n",
    "\n",
    "    # if not all(deltas1.iloc[idx] == delta):\n",
    "    #     print(idx)\n",
    "    #     print(dict(deltas1.iloc[idx]))\n",
    "    #     print(dict(deltas1.iloc[idx+1]))\n",
    "    #     print(dict(delta))\n",
    "    #     assert(False)\n",
    "\n",
    "    for start in range(37):\n",
    "        if truth[start] == 0:\n",
    "            continue\n",
    "\n",
    "        n_left_start = -min(delta[start], 0)\n",
    "        # Count total gain of neighbours (only neighbours who gain)\n",
    "        total_gain_n = 0\n",
    "        for n in neighboursDict[start]:\n",
    "            total_gain_n += max(delta[n], 0)\n",
    "\n",
    "        for end in range(37):\n",
    "            if start == end:\n",
    "                m[start, end, idx] = (truth[start] - n_left_start) / truth[start]\n",
    "            elif end in neighboursDict[start] and total_gain_n != 0:\n",
    "                m[start, end, idx] = (max(delta[end], 0) / total_gain_n) * (n_left_start / truth[start])\n",
    "            \n",
    "        if abs(np.sum(m[start, :, idx]) - 1) < 0.001:\n",
    "            continue\n",
    "\n",
    "        print(f\"idx = {idx}, Start = {start}, truth[start] = {truth[start]}, total-gain-n = {total_gain_n}, n_left_start = {n_left_start}\")\n",
    "        print({K:int(V) for K, V in dict(delta).items() if V != 0})\n",
    "        print({K:int(V) for K, V in dict(truth).items() if V != 0})\n",
    "        print(m[start, :, idx])\n",
    "        assert(False)\n",
    "\n",
    "# t_m = np.zeros((37, 37))\n",
    "# for start, end in zip(range(37), range(37)):\n",
    "#     t_m[start][end] = np.mean(m[start, end], axis=2)"
   ]
  },
  {
   "cell_type": "code",
   "execution_count": 133,
   "metadata": {},
   "outputs": [
    {
     "data": {
      "text/plain": [
       "2399"
      ]
     },
     "execution_count": 133,
     "metadata": {},
     "output_type": "execute_result"
    }
   ],
   "source": [
    "\n",
    "len(deltas1)"
   ]
  }
 ],
 "metadata": {
  "kernelspec": {
   "display_name": "Python 3",
   "language": "python",
   "name": "python3"
  },
  "language_info": {
   "codemirror_mode": {
    "name": "ipython",
    "version": 3
   },
   "file_extension": ".py",
   "mimetype": "text/x-python",
   "name": "python",
   "nbconvert_exporter": "python",
   "pygments_lexer": "ipython3",
   "version": "3.11.2"
  }
 },
 "nbformat": 4,
 "nbformat_minor": 2
}
